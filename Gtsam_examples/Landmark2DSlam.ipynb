{
 "cells": [
  {
   "cell_type": "code",
   "execution_count": 2,
   "metadata": {},
   "outputs": [],
   "source": [
    "import gtsam\n",
    "import numpy as np\n",
    "import matplotlib.pyplot as plt\n",
    "from gtsam.utils.plot import plot_pose2, plot_pose3, plot_point2, plot_point3"
   ]
  },
  {
   "cell_type": "code",
   "execution_count": 4,
   "metadata": {},
   "outputs": [
    {
     "name": "stdout",
     "output_type": "stream",
     "text": [
      "Values with 6 values:\n",
      "Value l1: (Eigen::Matrix<double, -1, 1, 0, -1, 1>)\n",
      "[\n",
      "\t4;\n",
      "\t-4.59636e-08\n",
      "]\n",
      "\n",
      "Value l2: (Eigen::Matrix<double, -1, 1, 0, -1, 1>)\n",
      "[\n",
      "\t6;\n",
      "\t-4.59639e-08\n",
      "]\n",
      "\n",
      "Value o1: (gtsam::Pose2)\n",
      "(0, 0, 0)\n",
      "\n",
      "Value x1: (gtsam::Pose2)\n",
      "(2, 1.09173e-14, 8.18781e-15)\n",
      "\n",
      "Value x2: (gtsam::Pose2)\n",
      "(4, 3.27518e-14, 1.0917e-14)\n",
      "\n",
      "Value x3: (gtsam::Pose2)\n",
      "(6, 5.45857e-14, 1.0917e-14)\n",
      "\n"
     ]
    },
    {
     "ename": "TypeError",
     "evalue": "plot_pose2() got an unexpected keyword argument 'axis'",
     "output_type": "error",
     "traceback": [
      "\u001b[0;31m---------------------------------------------------------------------------\u001b[0m",
      "\u001b[0;31mTypeError\u001b[0m                                 Traceback (most recent call last)",
      "\u001b[1;32m/home/baymax/Github_Repos/gtsam_tutorials/Gtsam_examples/Landmark2DSlam.ipynb Cell 2\u001b[0m line \u001b[0;36m4\n\u001b[1;32m     <a href='vscode-notebook-cell:/home/baymax/Github_Repos/gtsam_tutorials/Gtsam_examples/Landmark2DSlam.ipynb#W1sZmlsZQ%3D%3D?line=40'>41</a>\u001b[0m \u001b[39m# plot using gtsam.utils.plot\u001b[39;00m\n\u001b[1;32m     <a href='vscode-notebook-cell:/home/baymax/Github_Repos/gtsam_tutorials/Gtsam_examples/Landmark2DSlam.ipynb#W1sZmlsZQ%3D%3D?line=41'>42</a>\u001b[0m ax \u001b[39m=\u001b[39m plt\u001b[39m.\u001b[39mgca()\n\u001b[0;32m---> <a href='vscode-notebook-cell:/home/baymax/Github_Repos/gtsam_tutorials/Gtsam_examples/Landmark2DSlam.ipynb#W1sZmlsZQ%3D%3D?line=42'>43</a>\u001b[0m plot_pose2(\u001b[39m1\u001b[39;49m, result, axis\u001b[39m=\u001b[39;49max)\n\u001b[1;32m     <a href='vscode-notebook-cell:/home/baymax/Github_Repos/gtsam_tutorials/Gtsam_examples/Landmark2DSlam.ipynb#W1sZmlsZQ%3D%3D?line=43'>44</a>\u001b[0m plot_pose2(\u001b[39m2\u001b[39m, result, axis\u001b[39m=\u001b[39max)\n\u001b[1;32m     <a href='vscode-notebook-cell:/home/baymax/Github_Repos/gtsam_tutorials/Gtsam_examples/Landmark2DSlam.ipynb#W1sZmlsZQ%3D%3D?line=44'>45</a>\u001b[0m plot_pose2(\u001b[39m3\u001b[39m, result, axis\u001b[39m=\u001b[39max)\n",
      "\u001b[0;31mTypeError\u001b[0m: plot_pose2() got an unexpected keyword argument 'axis'"
     ]
    },
    {
     "data": {
      "image/png": "[encoded data removed]",
      "text/plain": [
       "<Figure size 640x480 with 1 Axes>"
      ]
     },
     "metadata": {},
     "output_type": "display_data"
    }
   ],
   "source": [
    "graph = gtsam.NonlinearFactorGraph()\n",
    "initialEstimate = gtsam.Values()\n",
    "\n",
    "# Add a prior on the first pose, setting it to the origin\n",
    "priorMean = gtsam.Pose2(0, 0, 0)\n",
    "priorNoise = gtsam.noiseModel.Diagonal.Sigmas(np.array([0.0, 0.0, 0.0]))\n",
    "prior_symbol = gtsam.symbol('o', 1)\n",
    "graph.add(gtsam.PriorFactorPose2(prior_symbol, priorMean, priorNoise))\n",
    "initialEstimate.insert(prior_symbol, priorMean)\n",
    "\n",
    "# Add odometry factors\n",
    "odometryNoise = gtsam.noiseModel.Diagonal.Sigmas(np.array([0.2, 0.2, 0.1]))\n",
    "odometry_symbol_1 = gtsam.symbol('x', 1)\n",
    "graph.add(gtsam.BetweenFactorPose2(prior_symbol, odometry_symbol_1, gtsam.Pose2(2, 0, 0), odometryNoise))\n",
    "initialEstimate.insert(odometry_symbol_1, gtsam.Pose2(2, 0, 0))\n",
    "\n",
    "odometry_symbol_2 = gtsam.symbol('x', 2)\n",
    "graph.add(gtsam.BetweenFactorPose2(odometry_symbol_1, odometry_symbol_2, gtsam.Pose2(2, 0, 0), odometryNoise))\n",
    "initialEstimate.insert(odometry_symbol_2, gtsam.Pose2(4, 0, 0))\n",
    "\n",
    "odometry_symbol_3 = gtsam.symbol('x', 3)\n",
    "graph.add(gtsam.BetweenFactorPose2(odometry_symbol_2, odometry_symbol_3, gtsam.Pose2(2, 0, 0), odometryNoise))\n",
    "initialEstimate.insert(odometry_symbol_3, gtsam.Pose2(6, 0, 0))\n",
    "\n",
    "# Add landmark observations\n",
    "landmarkNoise = gtsam.noiseModel.Diagonal.Sigmas(np.array([0.3, 0.3]))\n",
    "landmark_symbol_1 = gtsam.symbol('l', 1)\n",
    "graph.add(gtsam.BearingRangeFactor2D(odometry_symbol_1, landmark_symbol_1, gtsam.Rot2(0), 2, landmarkNoise))\n",
    "initialEstimate.insert(landmark_symbol_1, gtsam.Point2(2, 1))\n",
    "\n",
    "landmark_symbol_2 = gtsam.symbol('l', 2)\n",
    "graph.add(gtsam.BearingRangeFactor2D(odometry_symbol_2, landmark_symbol_2, gtsam.Rot2(0), 2, landmarkNoise))\n",
    "initialEstimate.insert(landmark_symbol_2, gtsam.Point2(4, 1))\n",
    "\n",
    "\n",
    "# optimize\n",
    "optimizer = gtsam.LevenbergMarquardtOptimizer(graph, initialEstimate)\n",
    "result = optimizer.optimize()\n",
    "result.print()\n",
    "\n",
    "# plot using gtsam.utils.plot\n"
   ]
  },
  {
   "cell_type": "code",
   "execution_count": null,
   "metadata": {},
   "outputs": [],
   "source": []
  }
 ],
 "metadata": {
  "kernelspec": {
   "display_name": "gtsam",
   "language": "python",
   "name": "python3"
  },
  "language_info": {
   "codemirror_mode": {
    "name": "ipython",
    "version": 3
   },
   "file_extension": ".py",
   "mimetype": "text/x-python",
   "name": "python",
   "nbconvert_exporter": "python",
   "pygments_lexer": "ipython3",
   "version": "3.8.10"
  }
 },
 "nbformat": 4,
 "nbformat_minor": 2
}
